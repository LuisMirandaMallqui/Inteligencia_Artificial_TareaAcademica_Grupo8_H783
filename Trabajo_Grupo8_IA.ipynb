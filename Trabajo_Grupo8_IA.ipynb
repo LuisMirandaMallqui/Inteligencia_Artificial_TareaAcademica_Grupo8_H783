{
  "cells": [
    {
      "cell_type": "markdown",
      "metadata": {
        "id": "view-in-github",
        "colab_type": "text"
      },
      "source": [
        "<a href=\"https://colab.research.google.com/github/LuisMirandaMallqui/Inteligencia_Artificial_TareaAcademica_Grupo8_H783/blob/main/Trabajo_Grupo8_IA.ipynb\" target=\"_parent\"><img src=\"https://colab.research.google.com/assets/colab-badge.svg\" alt=\"Open In Colab\"/></a>"
      ]
    },
    {
      "cell_type": "code",
      "source": [
        "# ==============================================================================\n",
        "# 1.LIBRERÍAS\n",
        "# ==============================================================================\n",
        "import pandas as pd\n",
        "import numpy as np\n",
        "import seaborn as sns\n",
        "import matplotlib.pyplot as plt\n",
        "\n",
        "# Modelos\n",
        "from sklearn.linear_model import LinearRegression\n",
        "from sklearn.tree import DecisionTreeRegressor\n",
        "from sklearn.ensemble import RandomForestRegressor\n",
        "\n",
        "# Métricas\n",
        "from sklearn.metrics import mean_squared_error, r2_score\n",
        "\n",
        "# Preprocesamiento\n",
        "from sklearn.model_selection import train_test_split\n",
        "from sklearn.preprocessing import StandardScaler, OneHotEncoder, MinMaxScaler\n",
        "from sklearn.compose import ColumnTransformer\n",
        "from sklearn.pipeline import Pipeline\n",
        "from sklearn.impute import SimpleImputer"
      ],
      "metadata": {
        "id": "GeetoLVsxEyg"
      },
      "execution_count": 2,
      "outputs": []
    },
    {
      "cell_type": "markdown",
      "source": [
        "# **LIMPIEZA DE DATOS**"
      ],
      "metadata": {
        "id": "5BobXkf1AFSw"
      }
    },
    {
      "cell_type": "markdown",
      "source": [
        "## Cargar datos"
      ],
      "metadata": {
        "id": "sMdtRICTR3by"
      }
    },
    {
      "cell_type": "code",
      "source": [
        "#Cargar el archivo y analizar filas dañadas\n",
        "df = pd.read_csv('CNV_MINSA_4782338_CORTE_310825.csv', delimiter=';', on_bad_lines='warn',dtype={'Num_embar_madre': str})\n",
        "# Diccionario de renombrado de columnas\n",
        "df.rename(columns={\n",
        "    'FecNac_Año': 'Año_Nacimiento',\n",
        "    'FecNac_Mes': 'Mes_Nacimiento',\n",
        "    'PESO_NACIDO': 'Peso_Nacido',\n",
        "    'TALLA_NACIDO': 'Talla_Nacido',\n",
        "    'DUR_EMB_PARTO': 'Duracion_Embarazo',\n",
        "    'Condicion_Parto': 'Condicion_Parto',\n",
        "    'sexo_nacido': 'Sexo_Nacido',\n",
        "    'Tipo_Parto': 'Tipo_Parto',\n",
        "    'Edad_Madre': 'Edad_Madre',\n",
        "    'Estado_Civil': 'Estado_Civil_Madre',\n",
        "    'Nivel_Intrucción_Madre': 'Nivel_Instruccion_Madre',\n",
        "    'DESC_OCUPACION': 'Ocupacion_Madre',\n",
        "    'Num_embar_madre': 'Numero_Embarazos_Madre',\n",
        "    'Hijos_vivo_madre': 'Hijos_Vivos_Madre',\n",
        "    'Hijos_fallec_madre': 'Hijos_Fallecidos_Madre',\n",
        "    'nacmuer_abort_madre': 'Abortos_Madre',\n",
        "    'Pais_Madre': 'Pais_Madre',\n",
        "    'IdUbigeoInei': 'Codigo_Ubigeo',\n",
        "    'Ipress': 'Ipress_Hospital',\n",
        "    'Lugar_Nacido': 'Lugar_Nacimiento',\n",
        "    'Atiende_Parto': 'Atiende_Parto',\n",
        "    'Financiador_Parto': 'Financiador_Parto'\n",
        "}, inplace=True)\n"
      ],
      "metadata": {
        "colab": {
          "base_uri": "https://localhost:8080/",
          "height": 0
        },
        "id": "I4xxtaC5vn5v",
        "outputId": "5dacae97-b17b-46d8-bd63-749b6aa9c60b"
      },
      "execution_count": 3,
      "outputs": [
        {
          "output_type": "stream",
          "name": "stderr",
          "text": [
            "/tmp/ipython-input-3863269927.py:2: ParserWarning: Skipping line 4410: expected 22 fields, saw 23\n",
            "Skipping line 24028: expected 22 fields, saw 23\n",
            "Skipping line 30508: expected 22 fields, saw 23\n",
            "\n",
            "  df = pd.read_csv('CNV_MINSA_4782338_CORTE_310825.csv', delimiter=';', on_bad_lines='warn',dtype={'Num_embar_madre': str})\n",
            "/tmp/ipython-input-3863269927.py:2: ParserWarning: Skipping line 59866: expected 22 fields, saw 23\n",
            "Skipping line 61121: expected 22 fields, saw 23\n",
            "\n",
            "  df = pd.read_csv('CNV_MINSA_4782338_CORTE_310825.csv', delimiter=';', on_bad_lines='warn',dtype={'Num_embar_madre': str})\n",
            "/tmp/ipython-input-3863269927.py:2: ParserWarning: Skipping line 71027: expected 22 fields, saw 23\n",
            "Skipping line 77936: expected 22 fields, saw 23\n",
            "Skipping line 83729: expected 22 fields, saw 23\n",
            "Skipping line 85126: expected 22 fields, saw 23\n",
            "\n",
            "  df = pd.read_csv('CNV_MINSA_4782338_CORTE_310825.csv', delimiter=';', on_bad_lines='warn',dtype={'Num_embar_madre': str})\n",
            "/tmp/ipython-input-3863269927.py:2: ParserWarning: Skipping line 107576: expected 22 fields, saw 23\n",
            "Skipping line 130710: expected 22 fields, saw 23\n",
            "\n",
            "  df = pd.read_csv('CNV_MINSA_4782338_CORTE_310825.csv', delimiter=';', on_bad_lines='warn',dtype={'Num_embar_madre': str})\n",
            "/tmp/ipython-input-3863269927.py:2: ParserWarning: Skipping line 150553: expected 22 fields, saw 23\n",
            "\n",
            "  df = pd.read_csv('CNV_MINSA_4782338_CORTE_310825.csv', delimiter=';', on_bad_lines='warn',dtype={'Num_embar_madre': str})\n",
            "/tmp/ipython-input-3863269927.py:2: ParserWarning: Skipping line 173664: expected 22 fields, saw 23\n",
            "Skipping line 178803: expected 22 fields, saw 23\n",
            "Skipping line 185403: expected 22 fields, saw 23\n",
            "Skipping line 195312: expected 22 fields, saw 23\n",
            "\n",
            "  df = pd.read_csv('CNV_MINSA_4782338_CORTE_310825.csv', delimiter=';', on_bad_lines='warn',dtype={'Num_embar_madre': str})\n",
            "/tmp/ipython-input-3863269927.py:2: ParserWarning: Skipping line 216506: expected 22 fields, saw 23\n",
            "Skipping line 219465: expected 22 fields, saw 23\n",
            "Skipping line 219753: expected 22 fields, saw 23\n",
            "\n",
            "  df = pd.read_csv('CNV_MINSA_4782338_CORTE_310825.csv', delimiter=';', on_bad_lines='warn',dtype={'Num_embar_madre': str})\n",
            "/tmp/ipython-input-3863269927.py:2: ParserWarning: Skipping line 230377: expected 22 fields, saw 23\n",
            "Skipping line 232240: expected 22 fields, saw 23\n",
            "\n",
            "  df = pd.read_csv('CNV_MINSA_4782338_CORTE_310825.csv', delimiter=';', on_bad_lines='warn',dtype={'Num_embar_madre': str})\n"
          ]
        }
      ]
    },
    {
      "cell_type": "code",
      "source": [
        "# En total tenemos 134 filas dañadas\n",
        "# DtypeWarning sugiere que la columna 14 tiene tipos de datos mixtos (por ejemplo, números y texto en la misma columna), esto puede ocasionar problemas al analizar los datos.\n",
        "# La solución es especificar un tipo de dato para al cargar el archivo, en este caso tome string porque el valor extraño es >=5. Aplicamos el parametro dtype={'Num_embar_madre': str} al momento de cargar el archivo"
      ],
      "metadata": {
        "id": "EcSPbIVUw9ZY"
      },
      "execution_count": 4,
      "outputs": []
    },
    {
      "cell_type": "markdown",
      "source": [
        "## Revisión de datos"
      ],
      "metadata": {
        "id": "LrKv36xuSX1e"
      }
    },
    {
      "cell_type": "code",
      "source": [
        "# Información del data frame\n",
        "df.head()\n",
        "df.dtypes"
      ],
      "metadata": {
        "colab": {
          "base_uri": "https://localhost:8080/",
          "height": 774
        },
        "id": "-rk3q1vI1Z5Q",
        "outputId": "229567ba-a6e7-4eb6-9dd4-339f17141e4d"
      },
      "execution_count": 5,
      "outputs": [
        {
          "output_type": "execute_result",
          "data": {
            "text/plain": [
              "Año_Nacimiento               int64\n",
              "Mes_Nacimiento               int64\n",
              "Peso_Nacido                  int64\n",
              "Talla_Nacido               float64\n",
              "Duracion_Embarazo            int64\n",
              "Condicion_Parto             object\n",
              "Sexo_Nacido                 object\n",
              "Tipo_Parto                  object\n",
              "Edad_Madre                   int64\n",
              "Estado_Civil_Madre          object\n",
              "Nivel_Instruccion_Madre     object\n",
              "Ocupacion_Madre             object\n",
              "Numero_Embarazos_Madre      object\n",
              "Hijos_Vivos_Madre           object\n",
              "Hijos_Fallecidos_Madre      object\n",
              "Abortos_Madre               object\n",
              "Pais_Madre                  object\n",
              "Codigo_Ubigeo                int64\n",
              "Ipress_Hospital              int64\n",
              "Lugar_Nacimiento            object\n",
              "Atiende_Parto               object\n",
              "Financiador_Parto           object\n",
              "dtype: object"
            ],
            "text/html": [
              "<div>\n",
              "<style scoped>\n",
              "    .dataframe tbody tr th:only-of-type {\n",
              "        vertical-align: middle;\n",
              "    }\n",
              "\n",
              "    .dataframe tbody tr th {\n",
              "        vertical-align: top;\n",
              "    }\n",
              "\n",
              "    .dataframe thead th {\n",
              "        text-align: right;\n",
              "    }\n",
              "</style>\n",
              "<table border=\"1\" class=\"dataframe\">\n",
              "  <thead>\n",
              "    <tr style=\"text-align: right;\">\n",
              "      <th></th>\n",
              "      <th>0</th>\n",
              "    </tr>\n",
              "  </thead>\n",
              "  <tbody>\n",
              "    <tr>\n",
              "      <th>Año_Nacimiento</th>\n",
              "      <td>int64</td>\n",
              "    </tr>\n",
              "    <tr>\n",
              "      <th>Mes_Nacimiento</th>\n",
              "      <td>int64</td>\n",
              "    </tr>\n",
              "    <tr>\n",
              "      <th>Peso_Nacido</th>\n",
              "      <td>int64</td>\n",
              "    </tr>\n",
              "    <tr>\n",
              "      <th>Talla_Nacido</th>\n",
              "      <td>float64</td>\n",
              "    </tr>\n",
              "    <tr>\n",
              "      <th>Duracion_Embarazo</th>\n",
              "      <td>int64</td>\n",
              "    </tr>\n",
              "    <tr>\n",
              "      <th>Condicion_Parto</th>\n",
              "      <td>object</td>\n",
              "    </tr>\n",
              "    <tr>\n",
              "      <th>Sexo_Nacido</th>\n",
              "      <td>object</td>\n",
              "    </tr>\n",
              "    <tr>\n",
              "      <th>Tipo_Parto</th>\n",
              "      <td>object</td>\n",
              "    </tr>\n",
              "    <tr>\n",
              "      <th>Edad_Madre</th>\n",
              "      <td>int64</td>\n",
              "    </tr>\n",
              "    <tr>\n",
              "      <th>Estado_Civil_Madre</th>\n",
              "      <td>object</td>\n",
              "    </tr>\n",
              "    <tr>\n",
              "      <th>Nivel_Instruccion_Madre</th>\n",
              "      <td>object</td>\n",
              "    </tr>\n",
              "    <tr>\n",
              "      <th>Ocupacion_Madre</th>\n",
              "      <td>object</td>\n",
              "    </tr>\n",
              "    <tr>\n",
              "      <th>Numero_Embarazos_Madre</th>\n",
              "      <td>object</td>\n",
              "    </tr>\n",
              "    <tr>\n",
              "      <th>Hijos_Vivos_Madre</th>\n",
              "      <td>object</td>\n",
              "    </tr>\n",
              "    <tr>\n",
              "      <th>Hijos_Fallecidos_Madre</th>\n",
              "      <td>object</td>\n",
              "    </tr>\n",
              "    <tr>\n",
              "      <th>Abortos_Madre</th>\n",
              "      <td>object</td>\n",
              "    </tr>\n",
              "    <tr>\n",
              "      <th>Pais_Madre</th>\n",
              "      <td>object</td>\n",
              "    </tr>\n",
              "    <tr>\n",
              "      <th>Codigo_Ubigeo</th>\n",
              "      <td>int64</td>\n",
              "    </tr>\n",
              "    <tr>\n",
              "      <th>Ipress_Hospital</th>\n",
              "      <td>int64</td>\n",
              "    </tr>\n",
              "    <tr>\n",
              "      <th>Lugar_Nacimiento</th>\n",
              "      <td>object</td>\n",
              "    </tr>\n",
              "    <tr>\n",
              "      <th>Atiende_Parto</th>\n",
              "      <td>object</td>\n",
              "    </tr>\n",
              "    <tr>\n",
              "      <th>Financiador_Parto</th>\n",
              "      <td>object</td>\n",
              "    </tr>\n",
              "  </tbody>\n",
              "</table>\n",
              "</div><br><label><b>dtype:</b> object</label>"
            ]
          },
          "metadata": {},
          "execution_count": 5
        }
      ]
    },
    {
      "cell_type": "code",
      "source": [
        "#Revisión de los datos:\n",
        "# Verificar valores nulos\n",
        "# Porcentaje de nulos\n",
        "null_pct = (df.isna().sum() / len(df)).sort_values(ascending=False) * 100\n",
        "print(\"\\\\nPorcentaje de nulos por columna (%):\")\n",
        "print(null_pct)\n",
        "#No se presentan valores nulos, lo ejecute por separado y todos salian 0 en la tabla, pero al ejecutar estos comandos en secuencia solo aparece el resultado del último por alguna razón\n",
        "# --- Gráfico 1: barras de % de nulos ---\n",
        "plt.figure(figsize=(10, 5))\n",
        "null_pct.plot(kind='bar')\n",
        "plt.title('% de valores nulos por columna')\n",
        "plt.ylabel('% nulos')\n",
        "plt.tight_layout()\n",
        "plt.show()\n",
        "\n",
        "# Verificar duplicados\n",
        "#df.duplicated().sum()\n",
        "#Presenta 953 datos"
      ],
      "metadata": {
        "colab": {
          "base_uri": "https://localhost:8080/",
          "height": 924
        },
        "id": "-6WXZqdU1nVl",
        "outputId": "c2a72bab-4c07-432d-b976-696a8924ff90"
      },
      "execution_count": 6,
      "outputs": [
        {
          "output_type": "stream",
          "name": "stdout",
          "text": [
            "\\nPorcentaje de nulos por columna (%):\n",
            "Atiende_Parto              0.00042\n",
            "Financiador_Parto          0.00042\n",
            "Peso_Nacido                0.00000\n",
            "Talla_Nacido               0.00000\n",
            "Año_Nacimiento             0.00000\n",
            "Mes_Nacimiento             0.00000\n",
            "Condicion_Parto            0.00000\n",
            "Duracion_Embarazo          0.00000\n",
            "Sexo_Nacido                0.00000\n",
            "Tipo_Parto                 0.00000\n",
            "Nivel_Instruccion_Madre    0.00000\n",
            "Ocupacion_Madre            0.00000\n",
            "Edad_Madre                 0.00000\n",
            "Estado_Civil_Madre         0.00000\n",
            "Hijos_Vivos_Madre          0.00000\n",
            "Numero_Embarazos_Madre     0.00000\n",
            "Hijos_Fallecidos_Madre     0.00000\n",
            "Abortos_Madre              0.00000\n",
            "Codigo_Ubigeo              0.00000\n",
            "Pais_Madre                 0.00000\n",
            "Lugar_Nacimiento           0.00000\n",
            "Ipress_Hospital            0.00000\n",
            "dtype: float64\n"
          ]
        },
        {
          "output_type": "display_data",
          "data": {
            "text/plain": [
              "<Figure size 1000x500 with 1 Axes>"
            ],
            "image/png": "[encoded data removed]"
          },
          "metadata": {}
        }
      ]
    },
    {
      "cell_type": "code",
      "source": [
        "\n",
        "#Primero: eliminar duplicados para evitar que el modelo se entrene con datos redundantes.\n",
        "#df.drop_duplicates(inplace=True)\n",
        "#df.duplicated().sum()\n",
        "#Analizando las columnas me parece que no hay problema con los repetidos, es normal pues no tratamos con datos especificos de las personas\n"
      ],
      "metadata": {
        "id": "wF8kA9RF1yxW"
      },
      "execution_count": 7,
      "outputs": []
    },
    {
      "cell_type": "markdown",
      "source": [
        "## **Transformación de variables**\n"
      ],
      "metadata": {
        "id": "Ns1DRuUKEYzU"
      }
    },
    {
      "cell_type": "markdown",
      "source": [
        "\n",
        "\n",
        "Asegurar que los datos estén en el formato correcto para el análisis y que no haya inconsistencias. Se realizan las modificaciones necesarias para que las columnas sean coherentes con el análisis.\n",
        "\n",
        "#### **Pasos**:\n",
        "\n",
        "\n",
        "\n",
        "\n",
        "* **Convertir variables categóricas en numéricas** (si es necesario):\n",
        "* **Convertir columnas de fecha a tipo datetime**\n",
        "* **Normalizar o estandarizar columnas numéricas**:\n",
        "   Ante columnas con diferentes escalas (por ejemplo, edad de la madre y peso del bebé), es útil normalizarlas o estandarizarlas para que estén en la misma escala y el modelo no se vea influenciado por la magnitud de los valores.\n",
        "\n",
        "   Ejemplo de **Estandarización**:\n",
        "\n",
        "   ```python\n",
        "   from sklearn.preprocessing import StandardScaler\n",
        "\n",
        "   # Normalizar la columna Edad_Madre\n",
        "   scaler = StandardScaler()\n",
        "   df[['Edad_Madre']] = scaler.fit_transform(df[['Edad_Madre']])\n",
        "   ```\n",
        "\n",
        "* **Lidiar con valores nulos**\n",
        "* **Lidiar con Outliers**\n",
        "\n",
        "### **Importancia**\n",
        "\n",
        "* **Transformación de variables**: Variables con formato adecuado para el análisis.\n",
        "* **Escalado y normalización**: Algunos modelos (como KNN o redes neuronales) son sensibles a la escala de los datos, por lo que es necesario normalizar o estandarizar las columnas numéricas.\n",
        "* **Limpieza de valores nulos**: Los valores faltantes pueden sesgar los resultados si no se manejan correctamente. En nuestro caso no se presentaron valores nulos de primeras.\n",
        "\n",
        "---\n",
        "\n",
        "\n"
      ],
      "metadata": {
        "id": "3_nlhy9jC89D"
      }
    },
    {
      "cell_type": "markdown",
      "source": [
        "### Columnas 1 y 2:  Año_Nacimiento y Mes_Nacimiento"
      ],
      "metadata": {
        "id": "R1pOlT1yDdsg"
      }
    },
    {
      "cell_type": "code",
      "source": [
        "# 1. Crea un diccionario mapeando los nombres de tus columnas a los nombres que pd.to_datetime espera ('year', 'month', 'day').\n",
        "date_components = {\n",
        "    'year': df['Año_Nacimiento'],\n",
        "    'month': df['Mes_Nacimiento'],\n",
        "    'day': 1  # Asignamos el día 1 a todos, es por cuestión de que la función lo requiere. Se permite esto pues no afecta al analisis\n",
        "}\n",
        "\n",
        "# 2. Pasa este diccionario a pd.to_datetime\n",
        "df['Fecha_Nacimiento'] = pd.to_datetime(date_components)\n",
        "\n",
        "# 3. Ahora puedes eliminar las columnas originales\n",
        "df.drop(columns=['Año_Nacimiento', 'Mes_Nacimiento'], inplace=True)\n",
        "\n",
        "# 4. Verificar las primeras filas y el tipo de dato\n",
        "print(df.head())\n",
        "print(f\"Tipo de dato de la nueva columna: {df['Fecha_Nacimiento'].dtype}\")"
      ],
      "metadata": {
        "colab": {
          "base_uri": "https://localhost:8080/",
          "height": 0
        },
        "id": "2NifYmq6D1B4",
        "outputId": "4d05fc1a-c97c-4890-da1c-3378f286dd59"
      },
      "execution_count": 8,
      "outputs": [
        {
          "output_type": "stream",
          "name": "stdout",
          "text": [
            "   Peso_Nacido  Talla_Nacido  Duracion_Embarazo Condicion_Parto Sexo_Nacido  \\\n",
            "0         3425          51.4                 41         CESAREA    FEMENINO   \n",
            "1         3320          48.0                 40        EUTOCICO    FEMENINO   \n",
            "2         3200          50.0                 39         CESAREA   MASCULINO   \n",
            "3         3850          51.0                 39        EUTOCICO   MASCULINO   \n",
            "4         3990          51.0                 38         CESAREA   MASCULINO   \n",
            "\n",
            "  Tipo_Parto  Edad_Madre Estado_Civil_Madre     Nivel_Instruccion_Madre  \\\n",
            "0      UNICO          36            SOLTERO         PRIMARIA INCOMPLETA   \n",
            "1      UNICO          35            SOLTERO           PRIMARIA COMPLETA   \n",
            "2      UNICO          32            SOLTERO         PRIMARIA INCOMPLETA   \n",
            "3      UNICO          34            SOLTERO       SECUNDARIA INCOMPLETA   \n",
            "4      UNICO          33         DIVORCIADO  SUPERIOR NO UNIV. COMPLETA   \n",
            "\n",
            "  Ocupacion_Madre  ... Hijos_Vivos_Madre Hijos_Fallecidos_Madre Abortos_Madre  \\\n",
            "0     AMA DE CASA  ...                 4                     -1      11 a más   \n",
            "1     AMA DE CASA  ...                 3                     -1       NINGUNO   \n",
            "2     AMA DE CASA  ...                 2                     -1             2   \n",
            "3     AMA DE CASA  ...                 3                     -1             1   \n",
            "4     AMA DE CASA  ...                 3                     -1       NINGUNO   \n",
            "\n",
            "  Pais_Madre Codigo_Ubigeo  Ipress_Hospital          Lugar_Nacimiento  \\\n",
            "0       PERU        200301             2161  ESTABLECIMIENTO DE SALUD   \n",
            "1       PERU        130102             5220  ESTABLECIMIENTO DE SALUD   \n",
            "2       PERU        120607              432  ESTABLECIMIENTO DE SALUD   \n",
            "3       PERU        130205             5269  ESTABLECIMIENTO DE SALUD   \n",
            "4       PERU         70101            10827  ESTABLECIMIENTO DE SALUD   \n",
            "\n",
            "            Atiende_Parto Financiador_Parto Fecha_Nacimiento  \n",
            "0  MEDICO GINECO-OBSTETRA               SIS       2021-01-01  \n",
            "1                OBSTETRA               SIS       2021-01-01  \n",
            "2  MEDICO GINECO-OBSTETRA               SIS       2021-01-01  \n",
            "3                OBSTETRA               SIS       2020-10-01  \n",
            "4  MEDICO GINECO-OBSTETRA        PARTICULAR       2021-01-01  \n",
            "\n",
            "[5 rows x 21 columns]\n",
            "Tipo de dato de la nueva columna: datetime64[ns]\n"
          ]
        }
      ]
    },
    {
      "cell_type": "markdown",
      "source": [
        "### Columna 14: Abortos_Madre\n"
      ],
      "metadata": {
        "id": "HEw8yqbhAVGD"
      }
    },
    {
      "cell_type": "code",
      "source": [
        "#Contiene valores mixtos, como números (2, 1), la cadena \"NINGUNO\", y \"11 a más\". Este tipo de datos puede generar problemas al momento de hacer análisis numéricos o de clasificación.\n",
        "#Ajustes realizados:\n",
        "# Reemplazar valores \"NINGUNO\" por 0\n",
        "df['Abortos_Madre'] = df['Abortos_Madre'].replace('NINGUNO', 0)\n",
        "# Reemplazar valores \"11 a más\" por 11\n",
        "df['Abortos_Madre'] = df['Abortos_Madre'].replace('11 a más', 11)\n",
        "# Asegurarse de que todos los valores sean numéricos (puedes convertirlos a enteros o flotantes)\n",
        "df['Abortos_Madre'] = pd.to_numeric(df['Abortos_Madre'], errors='coerce')\n",
        "# Verifica la corrección\n",
        "df['Abortos_Madre'].head()"
      ],
      "metadata": {
        "colab": {
          "base_uri": "https://localhost:8080/",
          "height": 0
        },
        "id": "pHUNa4DE_F5S",
        "outputId": "d3a2265c-56c5-4c78-83a9-90332a44cc9f"
      },
      "execution_count": 9,
      "outputs": [
        {
          "output_type": "execute_result",
          "data": {
            "text/plain": [
              "0    11.0\n",
              "1     0.0\n",
              "2     2.0\n",
              "3     1.0\n",
              "4     0.0\n",
              "Name: Abortos_Madre, dtype: float64"
            ],
            "text/html": [
              "<div>\n",
              "<style scoped>\n",
              "    .dataframe tbody tr th:only-of-type {\n",
              "        vertical-align: middle;\n",
              "    }\n",
              "\n",
              "    .dataframe tbody tr th {\n",
              "        vertical-align: top;\n",
              "    }\n",
              "\n",
              "    .dataframe thead th {\n",
              "        text-align: right;\n",
              "    }\n",
              "</style>\n",
              "<table border=\"1\" class=\"dataframe\">\n",
              "  <thead>\n",
              "    <tr style=\"text-align: right;\">\n",
              "      <th></th>\n",
              "      <th>Abortos_Madre</th>\n",
              "    </tr>\n",
              "  </thead>\n",
              "  <tbody>\n",
              "    <tr>\n",
              "      <th>0</th>\n",
              "      <td>11.0</td>\n",
              "    </tr>\n",
              "    <tr>\n",
              "      <th>1</th>\n",
              "      <td>0.0</td>\n",
              "    </tr>\n",
              "    <tr>\n",
              "      <th>2</th>\n",
              "      <td>2.0</td>\n",
              "    </tr>\n",
              "    <tr>\n",
              "      <th>3</th>\n",
              "      <td>1.0</td>\n",
              "    </tr>\n",
              "    <tr>\n",
              "      <th>4</th>\n",
              "      <td>0.0</td>\n",
              "    </tr>\n",
              "  </tbody>\n",
              "</table>\n",
              "</div><br><label><b>dtype:</b> float64</label>"
            ]
          },
          "metadata": {},
          "execution_count": 9
        }
      ]
    },
    {
      "cell_type": "markdown",
      "source": [
        "Columnas para descartar:\n",
        "\n",
        "Estado_Civil (Estado_Civil):\n",
        "No es tan relevante para predecir la tasa de natalidad directamente.\n",
        "\n",
        "Nivel_Instruccion_Madre (Nivel_Intrucción_Madre):\n",
        "Si no estás considerando la educación de las madres como factor en tu modelo de natalidad, esta columna podría no ser necesaria.\n",
        "\n",
        "Ocupacion_Madre (Ocupacion_Madre  ):\n",
        "A menos que quieras explorar cómo el empleo de la madre afecta la natalidad, puedes prescindir de esta columna."
      ],
      "metadata": {
        "id": "jmwVbSAaCZN_"
      }
    },
    {
      "cell_type": "markdown",
      "source": [
        "## Manejo de valores atípicos (outliers)"
      ],
      "metadata": {
        "id": "KyO5R_I5MNSX"
      }
    },
    {
      "cell_type": "code",
      "source": [
        "# Visualizar outliers con boxplot para todas las columnas numéricas\n",
        "numeric_columns = df.select_dtypes(include=['float64', 'int64']).columns  # Filtrar solo columnas numéricas\n",
        "\n",
        "\n",
        "# Calcular el número de filas y columnas necesarias para los subgráficos\n",
        "num_columns = 3  # Número de columnas en la cuadrícula\n",
        "num_rows = int(np.ceil(len(numeric_columns) / num_columns))  # Calcula el número de filas necesarias\n",
        "# Crear un boxplot para cada columna numérica\n",
        "plt.figure(figsize=(15, 5 * num_rows))\n",
        "for i, col in enumerate(numeric_columns):\n",
        "    plt.subplot(num_rows, num_columns, i+1)  # Ajusta el número de filas y columnas según el número de columnas\n",
        "    sns.boxplot(x=df[col])\n",
        "    plt.title(f'Boxplot de {col}')\n",
        "plt.tight_layout()\n",
        "plt.show()"
      ],
      "metadata": {
        "colab": {
          "base_uri": "https://localhost:8080/",
          "height": 1472
        },
        "id": "d_ZpBEohIQgo",
        "outputId": "fc0686e3-dc89-483f-e38c-13f3227208bf"
      },
      "execution_count": 10,
      "outputs": [
        {
          "output_type": "display_data",
          "data": {
            "text/plain": [
              "<Figure size 1500x1500 with 7 Axes>"
            ],
            "image/png": "[encoded data removed]"
          },
          "metadata": {}
        }
      ]
    },
    {
      "cell_type": "code",
      "source": [
        "# Eliminar outliers en todas las columnas numéricas usando el IQR\n",
        "for col in numeric_columns:\n",
        "    Q1 = df[col].quantile(0.25)  # Primer cuartil (25%)\n",
        "    Q3 = df[col].quantile(0.75)  # Tercer cuartil (75%)\n",
        "    IQR = Q3 - Q1  # Rango intercuartílico\n",
        "\n",
        "    # Definir los límites inferior y superior para detectar outliers\n",
        "    lower_bound = Q1 - 1.5 * IQR\n",
        "    upper_bound = Q3 + 1.5 * IQR\n",
        "\n",
        "    # Filtrar los valores dentro del rango\n",
        "    df = df[(df[col] >= lower_bound) & (df[col] <= upper_bound)]\n",
        "\n",
        "# Verificar las primeras filas después de eliminar outliers\n",
        "df.head()\n",
        "#IMPORTANTE: Aún no lo ejecute pq tengo dudas con respecto columnas como edad_madre o abortos_madre"
      ],
      "metadata": {
        "id": "dJY53_raXJkt",
        "outputId": "a48b4726-de33-461e-a9ef-2641ceaea1ee",
        "colab": {
          "base_uri": "https://localhost:8080/",
          "height": 377
        }
      },
      "execution_count": 11,
      "outputs": [
        {
          "output_type": "execute_result",
          "data": {
            "text/plain": [
              "   Peso_Nacido  Talla_Nacido  Duracion_Embarazo Condicion_Parto Sexo_Nacido  \\\n",
              "1         3320          48.0                 40        EUTOCICO    FEMENINO   \n",
              "2         3200          50.0                 39         CESAREA   MASCULINO   \n",
              "3         3850          51.0                 39        EUTOCICO   MASCULINO   \n",
              "4         3990          51.0                 38         CESAREA   MASCULINO   \n",
              "5         3440          49.0                 38        EUTOCICO   MASCULINO   \n",
              "\n",
              "  Tipo_Parto  Edad_Madre Estado_Civil_Madre     Nivel_Instruccion_Madre  \\\n",
              "1      UNICO          35            SOLTERO           PRIMARIA COMPLETA   \n",
              "2      UNICO          32            SOLTERO         PRIMARIA INCOMPLETA   \n",
              "3      UNICO          34            SOLTERO       SECUNDARIA INCOMPLETA   \n",
              "4      UNICO          33         DIVORCIADO  SUPERIOR NO UNIV. COMPLETA   \n",
              "5      UNICO          20            SOLTERO           PRIMARIA COMPLETA   \n",
              "\n",
              "  Ocupacion_Madre  ... Hijos_Vivos_Madre Hijos_Fallecidos_Madre Abortos_Madre  \\\n",
              "1     AMA DE CASA  ...                 3                     -1           0.0   \n",
              "2     AMA DE CASA  ...                 2                     -1           2.0   \n",
              "3     AMA DE CASA  ...                 3                     -1           1.0   \n",
              "4     AMA DE CASA  ...                 3                     -1           0.0   \n",
              "5     AMA DE CASA  ...                 2                     -1           0.0   \n",
              "\n",
              "   Pais_Madre Codigo_Ubigeo  Ipress_Hospital          Lugar_Nacimiento  \\\n",
              "1        PERU        130102             5220  ESTABLECIMIENTO DE SALUD   \n",
              "2        PERU        120607              432  ESTABLECIMIENTO DE SALUD   \n",
              "3        PERU        130205             5269  ESTABLECIMIENTO DE SALUD   \n",
              "4        PERU         70101            10827  ESTABLECIMIENTO DE SALUD   \n",
              "5        PERU         90206             3884  ESTABLECIMIENTO DE SALUD   \n",
              "\n",
              "            Atiende_Parto Financiador_Parto Fecha_Nacimiento  \n",
              "1                OBSTETRA               SIS       2021-01-01  \n",
              "2  MEDICO GINECO-OBSTETRA               SIS       2021-01-01  \n",
              "3                OBSTETRA               SIS       2020-10-01  \n",
              "4  MEDICO GINECO-OBSTETRA        PARTICULAR       2021-01-01  \n",
              "5                OBSTETRA               SIS       2021-01-01  \n",
              "\n",
              "[5 rows x 21 columns]"
            ],
            "text/html": [
              "\n",
              "  <div id=\"df-2a88c76f-9233-4620-afc3-bb3d1057f6a1\" class=\"colab-df-container\">\n",
              "    <div>\n",
              "<style scoped>\n",
              "    .dataframe tbody tr th:only-of-type {\n",
              "        vertical-align: middle;\n",
              "    }\n",
              "\n",
              "    .dataframe tbody tr th {\n",
              "        vertical-align: top;\n",
              "    }\n",
              "\n",
              "    .dataframe thead th {\n",
              "        text-align: right;\n",
              "    }\n",
              "</style>\n",
              "<table border=\"1\" class=\"dataframe\">\n",
              "  <thead>\n",
              "    <tr style=\"text-align: right;\">\n",
              "      <th></th>\n",
              "      <th>Peso_Nacido</th>\n",
              "      <th>Talla_Nacido</th>\n",
              "      <th>Duracion_Embarazo</th>\n",
              "      <th>Condicion_Parto</th>\n",
              "      <th>Sexo_Nacido</th>\n",
              "      <th>Tipo_Parto</th>\n",
              "      <th>Edad_Madre</th>\n",
              "      <th>Estado_Civil_Madre</th>\n",
              "      <th>Nivel_Instruccion_Madre</th>\n",
              "      <th>Ocupacion_Madre</th>\n",
              "      <th>...</th>\n",
              "      <th>Hijos_Vivos_Madre</th>\n",
              "      <th>Hijos_Fallecidos_Madre</th>\n",
              "      <th>Abortos_Madre</th>\n",
              "      <th>Pais_Madre</th>\n",
              "      <th>Codigo_Ubigeo</th>\n",
              "      <th>Ipress_Hospital</th>\n",
              "      <th>Lugar_Nacimiento</th>\n",
              "      <th>Atiende_Parto</th>\n",
              "      <th>Financiador_Parto</th>\n",
              "      <th>Fecha_Nacimiento</th>\n",
              "    </tr>\n",
              "  </thead>\n",
              "  <tbody>\n",
              "    <tr>\n",
              "      <th>1</th>\n",
              "      <td>3320</td>\n",
              "      <td>48.0</td>\n",
              "      <td>40</td>\n",
              "      <td>EUTOCICO</td>\n",
              "      <td>FEMENINO</td>\n",
              "      <td>UNICO</td>\n",
              "      <td>35</td>\n",
              "      <td>SOLTERO</td>\n",
              "      <td>PRIMARIA COMPLETA</td>\n",
              "      <td>AMA DE CASA</td>\n",
              "      <td>...</td>\n",
              "      <td>3</td>\n",
              "      <td>-1</td>\n",
              "      <td>0.0</td>\n",
              "      <td>PERU</td>\n",
              "      <td>130102</td>\n",
              "      <td>5220</td>\n",
              "      <td>ESTABLECIMIENTO DE SALUD</td>\n",
              "      <td>OBSTETRA</td>\n",
              "      <td>SIS</td>\n",
              "      <td>2021-01-01</td>\n",
              "    </tr>\n",
              "    <tr>\n",
              "      <th>2</th>\n",
              "      <td>3200</td>\n",
              "      <td>50.0</td>\n",
              "      <td>39</td>\n",
              "      <td>CESAREA</td>\n",
              "      <td>MASCULINO</td>\n",
              "      <td>UNICO</td>\n",
              "      <td>32</td>\n",
              "      <td>SOLTERO</td>\n",
              "      <td>PRIMARIA INCOMPLETA</td>\n",
              "      <td>AMA DE CASA</td>\n",
              "      <td>...</td>\n",
              "      <td>2</td>\n",
              "      <td>-1</td>\n",
              "      <td>2.0</td>\n",
              "      <td>PERU</td>\n",
              "      <td>120607</td>\n",
              "      <td>432</td>\n",
              "      <td>ESTABLECIMIENTO DE SALUD</td>\n",
              "      <td>MEDICO GINECO-OBSTETRA</td>\n",
              "      <td>SIS</td>\n",
              "      <td>2021-01-01</td>\n",
              "    </tr>\n",
              "    <tr>\n",
              "      <th>3</th>\n",
              "      <td>3850</td>\n",
              "      <td>51.0</td>\n",
              "      <td>39</td>\n",
              "      <td>EUTOCICO</td>\n",
              "      <td>MASCULINO</td>\n",
              "      <td>UNICO</td>\n",
              "      <td>34</td>\n",
              "      <td>SOLTERO</td>\n",
              "      <td>SECUNDARIA INCOMPLETA</td>\n",
              "      <td>AMA DE CASA</td>\n",
              "      <td>...</td>\n",
              "      <td>3</td>\n",
              "      <td>-1</td>\n",
              "      <td>1.0</td>\n",
              "      <td>PERU</td>\n",
              "      <td>130205</td>\n",
              "      <td>5269</td>\n",
              "      <td>ESTABLECIMIENTO DE SALUD</td>\n",
              "      <td>OBSTETRA</td>\n",
              "      <td>SIS</td>\n",
              "      <td>2020-10-01</td>\n",
              "    </tr>\n",
              "    <tr>\n",
              "      <th>4</th>\n",
              "      <td>3990</td>\n",
              "      <td>51.0</td>\n",
              "      <td>38</td>\n",
              "      <td>CESAREA</td>\n",
              "      <td>MASCULINO</td>\n",
              "      <td>UNICO</td>\n",
              "      <td>33</td>\n",
              "      <td>DIVORCIADO</td>\n",
              "      <td>SUPERIOR NO UNIV. COMPLETA</td>\n",
              "      <td>AMA DE CASA</td>\n",
              "      <td>...</td>\n",
              "      <td>3</td>\n",
              "      <td>-1</td>\n",
              "      <td>0.0</td>\n",
              "      <td>PERU</td>\n",
              "      <td>70101</td>\n",
              "      <td>10827</td>\n",
              "      <td>ESTABLECIMIENTO DE SALUD</td>\n",
              "      <td>MEDICO GINECO-OBSTETRA</td>\n",
              "      <td>PARTICULAR</td>\n",
              "      <td>2021-01-01</td>\n",
              "    </tr>\n",
              "    <tr>\n",
              "      <th>5</th>\n",
              "      <td>3440</td>\n",
              "      <td>49.0</td>\n",
              "      <td>38</td>\n",
              "      <td>EUTOCICO</td>\n",
              "      <td>MASCULINO</td>\n",
              "      <td>UNICO</td>\n",
              "      <td>20</td>\n",
              "      <td>SOLTERO</td>\n",
              "      <td>PRIMARIA COMPLETA</td>\n",
              "      <td>AMA DE CASA</td>\n",
              "      <td>...</td>\n",
              "      <td>2</td>\n",
              "      <td>-1</td>\n",
              "      <td>0.0</td>\n",
              "      <td>PERU</td>\n",
              "      <td>90206</td>\n",
              "      <td>3884</td>\n",
              "      <td>ESTABLECIMIENTO DE SALUD</td>\n",
              "      <td>OBSTETRA</td>\n",
              "      <td>SIS</td>\n",
              "      <td>2021-01-01</td>\n",
              "    </tr>\n",
              "  </tbody>\n",
              "</table>\n",
              "<p>5 rows × 21 columns</p>\n",
              "</div>\n",
              "    <div class=\"colab-df-buttons\">\n",
              "\n",
              "  <div class=\"colab-df-container\">\n",
              "    <button class=\"colab-df-convert\" onclick=\"convertToInteractive('df-2a88c76f-9233-4620-afc3-bb3d1057f6a1')\"\n",
              "            title=\"Convert this dataframe to an interactive table.\"\n",
              "            style=\"display:none;\">\n",
              "\n",
              "  <svg xmlns=\"http://www.w3.org/2000/svg\" height=\"24px\" viewBox=\"0 -960 960 960\">\n",
              "    <path d=\"M120-120v-720h720v720H120Zm60-500h600v-160H180v160Zm220 220h160v-160H400v160Zm0 220h160v-160H400v160ZM180-400h160v-160H180v160Zm440 0h160v-160H620v160ZM180-180h160v-160H180v160Zm440 0h160v-160H620v160Z\"/>\n",
              "  </svg>\n",
              "    </button>\n",
              "\n",
              "  <style>\n",
              "    .colab-df-container {\n",
              "      display:flex;\n",
              "      gap: 12px;\n",
              "    }\n",
              "\n",
              "    .colab-df-convert {\n",
              "      background-color: #E8F0FE;\n",
              "      border: none;\n",
              "      border-radius: 50%;\n",
              "      cursor: pointer;\n",
              "      display: none;\n",
              "      fill: #1967D2;\n",
              "      height: 32px;\n",
              "      padding: 0 0 0 0;\n",
              "      width: 32px;\n",
              "    }\n",
              "\n",
              "    .colab-df-convert:hover {\n",
              "      background-color: #E2EBFA;\n",
              "      box-shadow: 0px 1px 2px rgba(60, 64, 67, 0.3), 0px 1px 3px 1px rgba(60, 64, 67, 0.15);\n",
              "      fill: #174EA6;\n",
              "    }\n",
              "\n",
              "    .colab-df-buttons div {\n",
              "      margin-bottom: 4px;\n",
              "    }\n",
              "\n",
              "    [theme=dark] .colab-df-convert {\n",
              "      background-color: #3B4455;\n",
              "      fill: #D2E3FC;\n",
              "    }\n",
              "\n",
              "    [theme=dark] .colab-df-convert:hover {\n",
              "      background-color: #434B5C;\n",
              "      box-shadow: 0px 1px 3px 1px rgba(0, 0, 0, 0.15);\n",
              "      filter: drop-shadow(0px 1px 2px rgba(0, 0, 0, 0.3));\n",
              "      fill: #FFFFFF;\n",
              "    }\n",
              "  </style>\n",
              "\n",
              "    <script>\n",
              "      const buttonEl =\n",
              "        document.querySelector('#df-2a88c76f-9233-4620-afc3-bb3d1057f6a1 button.colab-df-convert');\n",
              "      buttonEl.style.display =\n",
              "        google.colab.kernel.accessAllowed ? 'block' : 'none';\n",
              "\n",
              "      async function convertToInteractive(key) {\n",
              "        const element = document.querySelector('#df-2a88c76f-9233-4620-afc3-bb3d1057f6a1');\n",
              "        const dataTable =\n",
              "          await google.colab.kernel.invokeFunction('convertToInteractive',\n",
              "                                                    [key], {});\n",
              "        if (!dataTable) return;\n",
              "\n",
              "        const docLinkHtml = 'Like what you see? Visit the ' +\n",
              "          '<a target=\"_blank\" href=https://colab.research.google.com/notebooks/data_table.ipynb>data table notebook</a>'\n",
              "          + ' to learn more about interactive tables.';\n",
              "        element.innerHTML = '';\n",
              "        dataTable['output_type'] = 'display_data';\n",
              "        await google.colab.output.renderOutput(dataTable, element);\n",
              "        const docLink = document.createElement('div');\n",
              "        docLink.innerHTML = docLinkHtml;\n",
              "        element.appendChild(docLink);\n",
              "      }\n",
              "    </script>\n",
              "  </div>\n",
              "\n",
              "\n",
              "    <div id=\"df-d437db24-96be-41dd-9609-14b718c67baf\">\n",
              "      <button class=\"colab-df-quickchart\" onclick=\"quickchart('df-d437db24-96be-41dd-9609-14b718c67baf')\"\n",
              "                title=\"Suggest charts\"\n",
              "                style=\"display:none;\">\n",
              "\n",
              "<svg xmlns=\"http://www.w3.org/2000/svg\" height=\"24px\"viewBox=\"0 0 24 24\"\n",
              "     width=\"24px\">\n",
              "    <g>\n",
              "        <path d=\"M19 3H5c-1.1 0-2 .9-2 2v14c0 1.1.9 2 2 2h14c1.1 0 2-.9 2-2V5c0-1.1-.9-2-2-2zM9 17H7v-7h2v7zm4 0h-2V7h2v10zm4 0h-2v-4h2v4z\"/>\n",
              "    </g>\n",
              "</svg>\n",
              "      </button>\n",
              "\n",
              "<style>\n",
              "  .colab-df-quickchart {\n",
              "      --bg-color: #E8F0FE;\n",
              "      --fill-color: #1967D2;\n",
              "      --hover-bg-color: #E2EBFA;\n",
              "      --hover-fill-color: #174EA6;\n",
              "      --disabled-fill-color: #AAA;\n",
              "      --disabled-bg-color: #DDD;\n",
              "  }\n",
              "\n",
              "  [theme=dark] .colab-df-quickchart {\n",
              "      --bg-color: #3B4455;\n",
              "      --fill-color: #D2E3FC;\n",
              "      --hover-bg-color: #434B5C;\n",
              "      --hover-fill-color: #FFFFFF;\n",
              "      --disabled-bg-color: #3B4455;\n",
              "      --disabled-fill-color: #666;\n",
              "  }\n",
              "\n",
              "  .colab-df-quickchart {\n",
              "    background-color: var(--bg-color);\n",
              "    border: none;\n",
              "    border-radius: 50%;\n",
              "    cursor: pointer;\n",
              "    display: none;\n",
              "    fill: var(--fill-color);\n",
              "    height: 32px;\n",
              "    padding: 0;\n",
              "    width: 32px;\n",
              "  }\n",
              "\n",
              "  .colab-df-quickchart:hover {\n",
              "    background-color: var(--hover-bg-color);\n",
              "    box-shadow: 0 1px 2px rgba(60, 64, 67, 0.3), 0 1px 3px 1px rgba(60, 64, 67, 0.15);\n",
              "    fill: var(--button-hover-fill-color);\n",
              "  }\n",
              "\n",
              "  .colab-df-quickchart-complete:disabled,\n",
              "  .colab-df-quickchart-complete:disabled:hover {\n",
              "    background-color: var(--disabled-bg-color);\n",
              "    fill: var(--disabled-fill-color);\n",
              "    box-shadow: none;\n",
              "  }\n",
              "\n",
              "  .colab-df-spinner {\n",
              "    border: 2px solid var(--fill-color);\n",
              "    border-color: transparent;\n",
              "    border-bottom-color: var(--fill-color);\n",
              "    animation:\n",
              "      spin 1s steps(1) infinite;\n",
              "  }\n",
              "\n",
              "  @keyframes spin {\n",
              "    0% {\n",
              "      border-color: transparent;\n",
              "      border-bottom-color: var(--fill-color);\n",
              "      border-left-color: var(--fill-color);\n",
              "    }\n",
              "    20% {\n",
              "      border-color: transparent;\n",
              "      border-left-color: var(--fill-color);\n",
              "      border-top-color: var(--fill-color);\n",
              "    }\n",
              "    30% {\n",
              "      border-color: transparent;\n",
              "      border-left-color: var(--fill-color);\n",
              "      border-top-color: var(--fill-color);\n",
              "      border-right-color: var(--fill-color);\n",
              "    }\n",
              "    40% {\n",
              "      border-color: transparent;\n",
              "      border-right-color: var(--fill-color);\n",
              "      border-top-color: var(--fill-color);\n",
              "    }\n",
              "    60% {\n",
              "      border-color: transparent;\n",
              "      border-right-color: var(--fill-color);\n",
              "    }\n",
              "    80% {\n",
              "      border-color: transparent;\n",
              "      border-right-color: var(--fill-color);\n",
              "      border-bottom-color: var(--fill-color);\n",
              "    }\n",
              "    90% {\n",
              "      border-color: transparent;\n",
              "      border-bottom-color: var(--fill-color);\n",
              "    }\n",
              "  }\n",
              "</style>\n",
              "\n",
              "      <script>\n",
              "        async function quickchart(key) {\n",
              "          const quickchartButtonEl =\n",
              "            document.querySelector('#' + key + ' button');\n",
              "          quickchartButtonEl.disabled = true;  // To prevent multiple clicks.\n",
              "          quickchartButtonEl.classList.add('colab-df-spinner');\n",
              "          try {\n",
              "            const charts = await google.colab.kernel.invokeFunction(\n",
              "                'suggestCharts', [key], {});\n",
              "          } catch (error) {\n",
              "            console.error('Error during call to suggestCharts:', error);\n",
              "          }\n",
              "          quickchartButtonEl.classList.remove('colab-df-spinner');\n",
              "          quickchartButtonEl.classList.add('colab-df-quickchart-complete');\n",
              "        }\n",
              "        (() => {\n",
              "          let quickchartButtonEl =\n",
              "            document.querySelector('#df-d437db24-96be-41dd-9609-14b718c67baf button');\n",
              "          quickchartButtonEl.style.display =\n",
              "            google.colab.kernel.accessAllowed ? 'block' : 'none';\n",
              "        })();\n",
              "      </script>\n",
              "    </div>\n",
              "\n",
              "    </div>\n",
              "  </div>\n"
            ],
            "application/vnd.google.colaboratory.intrinsic+json": {
              "type": "dataframe"
            }
          },
          "metadata": {},
          "execution_count": 11
        }
      ]
    },
    {
      "cell_type": "markdown",
      "source": [
        "**Explicación:**\n",
        "\n",
        "Boxplot: Los valores atípicos aparecerán como puntos fuera de los \"bigotes\" del boxplot. Esto te da una visión rápida de los posibles outliers en cada columna.\n",
        "\n",
        "IQR (Rango Intercuartílico):\n",
        "\n",
        "Calculamos los primeros (Q1) y terceros (Q3) cuartiles de la columna.\n",
        "\n",
        "El IQR es la diferencia entre Q3 y Q1.\n",
        "\n",
        "Los valores por debajo de Q1 - 1.5 * IQR o por encima de Q3 + 1.5 * IQR son considerados outliers y son eliminados en el código."
      ],
      "metadata": {
        "id": "SafOPkyZYoa-"
      }
    },
    {
      "cell_type": "markdown",
      "source": [
        "## Normalización o Estandarización de datos\n",
        "\n"
      ],
      "metadata": {
        "id": "HE8620e1ZV0T"
      }
    },
    {
      "cell_type": "code",
      "source": [
        "from sklearn.preprocessing import StandardScaler\n",
        "\n",
        "# Crear el objeto StandardScaler\n",
        "scaler = StandardScaler()\n",
        "\n",
        "# Estandarizar las columnas numéricas del DataFrame\n",
        "df[['columna_numerica']] = scaler.fit_transform(df[['columna_numerica']])\n",
        "\n",
        "# Verifica las primeras filas después de la estandarización\n",
        "df.head()"
      ],
      "metadata": {
        "id": "pB83NDJrZldt",
        "outputId": "da396cf9-bf98-4f11-a1a7-e04ac044fb55",
        "colab": {
          "base_uri": "https://localhost:8080/",
          "height": 356
        }
      },
      "execution_count": 12,
      "outputs": [
        {
          "output_type": "error",
          "ename": "KeyError",
          "evalue": "\"None of [Index(['columna_numerica'], dtype='object')] are in the [columns]\"",
          "traceback": [
            "\u001b[0;31m---------------------------------------------------------------------------\u001b[0m",
            "\u001b[0;31mKeyError\u001b[0m                                  Traceback (most recent call last)",
            "\u001b[0;32m/tmp/ipython-input-2880864563.py\u001b[0m in \u001b[0;36m<cell line: 0>\u001b[0;34m()\u001b[0m\n\u001b[1;32m      5\u001b[0m \u001b[0;34m\u001b[0m\u001b[0m\n\u001b[1;32m      6\u001b[0m \u001b[0;31m# Estandarizar las columnas numéricas del DataFrame\u001b[0m\u001b[0;34m\u001b[0m\u001b[0;34m\u001b[0m\u001b[0m\n\u001b[0;32m----> 7\u001b[0;31m \u001b[0mdf\u001b[0m\u001b[0;34m[\u001b[0m\u001b[0;34m[\u001b[0m\u001b[0;34m'columna_numerica'\u001b[0m\u001b[0;34m]\u001b[0m\u001b[0;34m]\u001b[0m \u001b[0;34m=\u001b[0m \u001b[0mscaler\u001b[0m\u001b[0;34m.\u001b[0m\u001b[0mfit_transform\u001b[0m\u001b[0;34m(\u001b[0m\u001b[0mdf\u001b[0m\u001b[0;34m[\u001b[0m\u001b[0;34m[\u001b[0m\u001b[0;34m'columna_numerica'\u001b[0m\u001b[0;34m]\u001b[0m\u001b[0;34m]\u001b[0m\u001b[0;34m)\u001b[0m\u001b[0;34m\u001b[0m\u001b[0;34m\u001b[0m\u001b[0m\n\u001b[0m\u001b[1;32m      8\u001b[0m \u001b[0;34m\u001b[0m\u001b[0m\n\u001b[1;32m      9\u001b[0m \u001b[0;31m# Verifica las primeras filas después de la estandarización\u001b[0m\u001b[0;34m\u001b[0m\u001b[0;34m\u001b[0m\u001b[0m\n",
            "\u001b[0;32m/usr/local/lib/python3.12/dist-packages/pandas/core/frame.py\u001b[0m in \u001b[0;36m__getitem__\u001b[0;34m(self, key)\u001b[0m\n\u001b[1;32m   4106\u001b[0m             \u001b[0;32mif\u001b[0m \u001b[0mis_iterator\u001b[0m\u001b[0;34m(\u001b[0m\u001b[0mkey\u001b[0m\u001b[0;34m)\u001b[0m\u001b[0;34m:\u001b[0m\u001b[0;34m\u001b[0m\u001b[0;34m\u001b[0m\u001b[0m\n\u001b[1;32m   4107\u001b[0m                 \u001b[0mkey\u001b[0m \u001b[0;34m=\u001b[0m \u001b[0mlist\u001b[0m\u001b[0;34m(\u001b[0m\u001b[0mkey\u001b[0m\u001b[0;34m)\u001b[0m\u001b[0;34m\u001b[0m\u001b[0;34m\u001b[0m\u001b[0m\n\u001b[0;32m-> 4108\u001b[0;31m             \u001b[0mindexer\u001b[0m \u001b[0;34m=\u001b[0m \u001b[0mself\u001b[0m\u001b[0;34m.\u001b[0m\u001b[0mcolumns\u001b[0m\u001b[0;34m.\u001b[0m\u001b[0m_get_indexer_strict\u001b[0m\u001b[0;34m(\u001b[0m\u001b[0mkey\u001b[0m\u001b[0;34m,\u001b[0m \u001b[0;34m\"columns\"\u001b[0m\u001b[0;34m)\u001b[0m\u001b[0;34m[\u001b[0m\u001b[0;36m1\u001b[0m\u001b[0;34m]\u001b[0m\u001b[0;34m\u001b[0m\u001b[0;34m\u001b[0m\u001b[0m\n\u001b[0m\u001b[1;32m   4109\u001b[0m \u001b[0;34m\u001b[0m\u001b[0m\n\u001b[1;32m   4110\u001b[0m         \u001b[0;31m# take() does not accept boolean indexers\u001b[0m\u001b[0;34m\u001b[0m\u001b[0;34m\u001b[0m\u001b[0m\n",
            "\u001b[0;32m/usr/local/lib/python3.12/dist-packages/pandas/core/indexes/base.py\u001b[0m in \u001b[0;36m_get_indexer_strict\u001b[0;34m(self, key, axis_name)\u001b[0m\n\u001b[1;32m   6198\u001b[0m             \u001b[0mkeyarr\u001b[0m\u001b[0;34m,\u001b[0m \u001b[0mindexer\u001b[0m\u001b[0;34m,\u001b[0m \u001b[0mnew_indexer\u001b[0m \u001b[0;34m=\u001b[0m \u001b[0mself\u001b[0m\u001b[0;34m.\u001b[0m\u001b[0m_reindex_non_unique\u001b[0m\u001b[0;34m(\u001b[0m\u001b[0mkeyarr\u001b[0m\u001b[0;34m)\u001b[0m\u001b[0;34m\u001b[0m\u001b[0;34m\u001b[0m\u001b[0m\n\u001b[1;32m   6199\u001b[0m \u001b[0;34m\u001b[0m\u001b[0m\n\u001b[0;32m-> 6200\u001b[0;31m         \u001b[0mself\u001b[0m\u001b[0;34m.\u001b[0m\u001b[0m_raise_if_missing\u001b[0m\u001b[0;34m(\u001b[0m\u001b[0mkeyarr\u001b[0m\u001b[0;34m,\u001b[0m \u001b[0mindexer\u001b[0m\u001b[0;34m,\u001b[0m \u001b[0maxis_name\u001b[0m\u001b[0;34m)\u001b[0m\u001b[0;34m\u001b[0m\u001b[0;34m\u001b[0m\u001b[0m\n\u001b[0m\u001b[1;32m   6201\u001b[0m \u001b[0;34m\u001b[0m\u001b[0m\n\u001b[1;32m   6202\u001b[0m         \u001b[0mkeyarr\u001b[0m \u001b[0;34m=\u001b[0m \u001b[0mself\u001b[0m\u001b[0;34m.\u001b[0m\u001b[0mtake\u001b[0m\u001b[0;34m(\u001b[0m\u001b[0mindexer\u001b[0m\u001b[0;34m)\u001b[0m\u001b[0;34m\u001b[0m\u001b[0;34m\u001b[0m\u001b[0m\n",
            "\u001b[0;32m/usr/local/lib/python3.12/dist-packages/pandas/core/indexes/base.py\u001b[0m in \u001b[0;36m_raise_if_missing\u001b[0;34m(self, key, indexer, axis_name)\u001b[0m\n\u001b[1;32m   6247\u001b[0m         \u001b[0;32mif\u001b[0m \u001b[0mnmissing\u001b[0m\u001b[0;34m:\u001b[0m\u001b[0;34m\u001b[0m\u001b[0;34m\u001b[0m\u001b[0m\n\u001b[1;32m   6248\u001b[0m             \u001b[0;32mif\u001b[0m \u001b[0mnmissing\u001b[0m \u001b[0;34m==\u001b[0m \u001b[0mlen\u001b[0m\u001b[0;34m(\u001b[0m\u001b[0mindexer\u001b[0m\u001b[0;34m)\u001b[0m\u001b[0;34m:\u001b[0m\u001b[0;34m\u001b[0m\u001b[0;34m\u001b[0m\u001b[0m\n\u001b[0;32m-> 6249\u001b[0;31m                 \u001b[0;32mraise\u001b[0m \u001b[0mKeyError\u001b[0m\u001b[0;34m(\u001b[0m\u001b[0;34mf\"None of [{key}] are in the [{axis_name}]\"\u001b[0m\u001b[0;34m)\u001b[0m\u001b[0;34m\u001b[0m\u001b[0;34m\u001b[0m\u001b[0m\n\u001b[0m\u001b[1;32m   6250\u001b[0m \u001b[0;34m\u001b[0m\u001b[0m\n\u001b[1;32m   6251\u001b[0m             \u001b[0mnot_found\u001b[0m \u001b[0;34m=\u001b[0m \u001b[0mlist\u001b[0m\u001b[0;34m(\u001b[0m\u001b[0mensure_index\u001b[0m\u001b[0;34m(\u001b[0m\u001b[0mkey\u001b[0m\u001b[0;34m)\u001b[0m\u001b[0;34m[\u001b[0m\u001b[0mmissing_mask\u001b[0m\u001b[0;34m.\u001b[0m\u001b[0mnonzero\u001b[0m\u001b[0;34m(\u001b[0m\u001b[0;34m)\u001b[0m\u001b[0;34m[\u001b[0m\u001b[0;36m0\u001b[0m\u001b[0;34m]\u001b[0m\u001b[0;34m]\u001b[0m\u001b[0;34m.\u001b[0m\u001b[0munique\u001b[0m\u001b[0;34m(\u001b[0m\u001b[0;34m)\u001b[0m\u001b[0;34m)\u001b[0m\u001b[0;34m\u001b[0m\u001b[0;34m\u001b[0m\u001b[0m\n",
            "\u001b[0;31mKeyError\u001b[0m: \"None of [Index(['columna_numerica'], dtype='object')] are in the [columns]\""
          ]
        }
      ]
    },
    {
      "cell_type": "markdown",
      "source": [
        "Estandarización es especialmente útil cuando los modelos pueden ser sensibles a la escala, como KNN y redes neuronales."
      ],
      "metadata": {
        "id": "k9VmpJHmZuz9"
      }
    },
    {
      "cell_type": "code",
      "source": [
        "from sklearn.preprocessing import MinMaxScaler\n",
        "\n",
        "# Crear el objeto MinMaxScaler\n",
        "scaler = MinMaxScaler()\n",
        "\n",
        "# Normalizar las columnas numéricas del DataFrame\n",
        "df[['columna_numerica']] = scaler.fit_transform(df[['columna_numerica']])\n",
        "\n",
        "# Verifica las primeras filas después de la normalización\n",
        "df.head()"
      ],
      "metadata": {
        "id": "MCaS7fl6Zwc9"
      },
      "execution_count": null,
      "outputs": []
    },
    {
      "cell_type": "markdown",
      "source": [
        "Normalización es útil si los modelos requieren que los datos estén en un rango específico, como 0 a 1."
      ],
      "metadata": {
        "id": "ff3i5hd9Z2m9"
      }
    },
    {
      "cell_type": "markdown",
      "source": [
        "## Conversión de variables categóricas a numéricas"
      ],
      "metadata": {
        "id": "MYYBQ4cEaPkY"
      }
    },
    {
      "cell_type": "markdown",
      "source": [
        "En muchos modelos de machine learning, las variables categóricas deben ser convertidas a variables numéricas para que estos las puedan procesar correctamente."
      ],
      "metadata": {
        "id": "r_m_iZNMaVd4"
      }
    },
    {
      "cell_type": "markdown",
      "source": [
        "One-Hot Encoding (para categorías sin orden implícito):\n",
        "\n",
        "Para columnas como Sexo_Nacido, Estado_Civil_Madre, que tienen un orden natural."
      ],
      "metadata": {
        "id": "numFWYZDaZEQ"
      }
    },
    {
      "cell_type": "code",
      "source": [
        "# Identificar columnas categóricas\n",
        "categorical_columns = df.select_dtypes(include=['object']).columns\n",
        "# PELIGRO!!!!: Ahh hay columas object que estan raras entonces no se xdd tenemos que verlo\n",
        "# Aplicar One-Hot Encoding a todas las columnas categóricas\n",
        "df = pd.get_dummies(df, columns=categorical_columns, drop_first=True)\n",
        "\n",
        "# Verificar las primeras filas después del One-Hot Encoding\n",
        "df.head()\n",
        "\n",
        "#drop_first=True elimina la primera columna de la codificación para evitar la multicolinealidad."
      ],
      "metadata": {
        "id": "YSRAqUBCbR0G"
      },
      "execution_count": null,
      "outputs": []
    },
    {
      "cell_type": "markdown",
      "source": [
        "## Dividir los datos en conjunto de entrenamiento y prueba"
      ],
      "metadata": {
        "id": "Ti3haXLNae25"
      }
    },
    {
      "cell_type": "markdown",
      "source": [
        ":v"
      ],
      "metadata": {
        "id": "wak-ETy8b9gT"
      }
    },
    {
      "cell_type": "code",
      "source": [
        "#proximamente ya me dio flojera"
      ],
      "metadata": {
        "id": "9UNomuuVb-q8"
      },
      "execution_count": null,
      "outputs": []
    },
    {
      "cell_type": "markdown",
      "source": [
        "# **IMPLEMENTACIÓN DE MODELOS PREDICTIVOS**"
      ],
      "metadata": {
        "id": "yjIuNJ-aay_s"
      }
    },
    {
      "cell_type": "markdown",
      "source": [
        "# **Consultas Iteligencia generativa**"
      ],
      "metadata": {
        "id": "lNR_BNY2IT1N"
      }
    },
    {
      "cell_type": "markdown",
      "source": [
        "Prompt 1:\n",
        "mi profesor nos dio este documento tambien, hizo enfasis en 1.13. Selección de características — documentación de scikit-learn 1.7.2"
      ],
      "metadata": {
        "id": "FMxRLWP3IaY2"
      }
    },
    {
      "cell_type": "markdown",
      "source": [],
      "metadata": {
        "id": "5r7ShtedIc4u"
      }
    },
    {
      "cell_type": "markdown",
      "source": [
        "El **documento sobre la selección de características de scikit-learn** que te proporcionó tu profesor se enfoca en un aspecto crucial para mejorar la **precisión y eficiencia de los modelos predictivos**. La selección de características (feature selection) es un proceso importante cuando tienes muchas variables y deseas reducir la **dimensionalidad** del problema, eliminando aquellas que son irrelevantes o redundantes.\n",
        "\n",
        "### **¿Qué es la Selección de Características?**\n",
        "\n",
        "La **selección de características** es el proceso de identificar y seleccionar un subconjunto de características más relevantes de un conjunto de datos, lo cual ayuda a:\n",
        "\n",
        "* Mejorar el rendimiento del modelo.\n",
        "* Reducir el sobreajuste (overfitting).\n",
        "* Reducir el tiempo de entrenamiento y de predicción.\n",
        "\n",
        "### **Enfoques principales para la Selección de Características**:\n",
        "\n",
        "1. **Métodos de Filtro (Filter Methods)**:\n",
        "\n",
        "   * Evalúan las características de forma independiente usando estadísticas o métricas, sin considerar el modelo que se va a usar.\n",
        "   * Ejemplos:\n",
        "\n",
        "     * **Chi-cuadrado** (`chi2`)\n",
        "     * **ANOVA F-value** (`f_classif`)\n",
        "     * **Correlación** (entre características y la variable objetivo).\n",
        "\n",
        "2. **Métodos de Envolvimiento (Wrapper Methods)**:\n",
        "\n",
        "   * Utilizan un modelo predictivo para evaluar el desempeño de las características seleccionadas.\n",
        "   * Ejemplo: **Selección recursiva de características (RFE)**, que entrena el modelo y elimina las características menos importantes de forma recursiva.\n",
        "\n",
        "3. **Métodos Basados en la Importancia de los Modelos (Embedded Methods)**:\n",
        "\n",
        "   * Se realizan durante el entrenamiento del modelo, ya que algunos modelos calculan la **importancia de las características**.\n",
        "   * Ejemplo: **Árboles de decisión** (Decision Trees) o **Random Forests**.\n",
        "\n",
        "---\n",
        "\n",
        "### **Implementación de Selección de Características en scikit-learn**:\n",
        "\n",
        "Si quieres usar la selección de características en **scikit-learn** para tu proyecto, puedes utilizar algunas de las herramientas que la documentación proporciona. A continuación te doy un ejemplo básico de cómo usar **`SelectKBest`**, que es un método de filtro para seleccionar las mejores características según una estadística.\n",
        "\n",
        "### **Ejemplo básico con `SelectKBest`**:\n",
        "\n",
        "```python\n",
        "from sklearn.feature_selection import SelectKBest, f_classif\n",
        "from sklearn.model_selection import train_test_split\n",
        "from sklearn.datasets import load_iris\n",
        "from sklearn.ensemble import RandomForestClassifier\n",
        "\n",
        "# Cargar un dataset de ejemplo (Iris)\n",
        "data = load_iris()\n",
        "X = data.data  # Características\n",
        "y = data.target  # Objetivo\n",
        "\n",
        "# Dividir el dataset en conjunto de entrenamiento y prueba\n",
        "X_train, X_test, y_train, y_test = train_test_split(X, y, test_size=0.2, random_state=42)\n",
        "\n",
        "# Seleccionar las 2 mejores características usando ANOVA F-value\n",
        "selector = SelectKBest(f_classif, k=2)\n",
        "X_new = selector.fit_transform(X_train, y_train)\n",
        "\n",
        "# Ver las características seleccionadas\n",
        "print(\"Características seleccionadas:\", selector.get_support())\n",
        "print(\"Mejores características:\", X_new[:5])\n",
        "\n",
        "# Entrenar un modelo con las características seleccionadas\n",
        "model = RandomForestClassifier()\n",
        "model.fit(X_new, y_train)\n",
        "\n",
        "# Evaluar en el conjunto de prueba\n",
        "X_test_selected = selector.transform(X_test)\n",
        "score = model.score(X_test_selected, y_test)\n",
        "print(\"Precisión en el conjunto de prueba:\", score)\n",
        "```\n",
        "\n",
        "### **Explicación**:\n",
        "\n",
        "1. **`SelectKBest`**: Selecciona las **`k`** mejores características según el criterio que se elija. En este caso, se usa **ANOVA F-value** (`f_classif`), que es común para **clasificación**.\n",
        "2. **`fit_transform`**: Ajusta el selector a los datos y selecciona las mejores características del conjunto de entrenamiento.\n",
        "3. **Modelo**: Se entrena un **RandomForestClassifier** utilizando solo las características seleccionadas.\n",
        "\n",
        "### **Otros métodos de selección en scikit-learn**:\n",
        "\n",
        "* **`RFE` (Recursive Feature Elimination)**: Elimina recursivamente las características menos importantes.\n",
        "* **`RFECV`**: Utiliza la validación cruzada para encontrar el número óptimo de características.\n",
        "\n",
        "---\n",
        "\n",
        "### **Próximos pasos para aplicar esto en tu trabajo**:\n",
        "\n",
        "1. **Cargar y preparar tus datos**: Asegúrate de que las columnas estén en el formato correcto y de que hayas realizado un buen preprocesamiento.\n",
        "2. **Seleccionar las mejores características**: Usa `SelectKBest` o `RFE` para identificar las características más relevantes para la predicción de la **tasa de natalidad**.\n",
        "3. **Entrenar y evaluar tu modelo**: Con las características seleccionadas, entrena tu modelo y evalúa su desempeño.\n",
        "\n",
        "---\n",
        "\n",
        "Si necesitas más detalles sobre algún método de selección de características o ejemplos más específicos de cómo integrarlo en tu proyecto, ¡avísame y te ayudo!\n"
      ],
      "metadata": {
        "id": "sLmTWuyHIXtG"
      }
    }
  ],
  "metadata": {
    "colab": {
      "provenance": [],
      "collapsed_sections": [
        "R1pOlT1yDdsg",
        "HEw8yqbhAVGD",
        "lNR_BNY2IT1N"
      ],
      "authorship_tag": "ABX9TyPx7Grv6+8siIDKfkrAMYD9",
      "include_colab_link": true
    },
    "kernelspec": {
      "display_name": "Python 3",
      "name": "python3"
    },
    "language_info": {
      "name": "python"
    }
  },
  "nbformat": 4,
  "nbformat_minor": 0
}